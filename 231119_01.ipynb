{
 "cells": [
  {
   "cell_type": "markdown",
   "metadata": {},
   "source": [
    "### 페르마의 마지막 정리를 증명하자\n",
    "\n",
    "- an +bn =cn 이라는 수식에서 n의 값이 2보다 큰 자연수라면, a,b,c의 자연수는 존재하지 않는다.\n",
    "\n",
    "- n의 값이 3인경우 a,b,c가 1부터 10까지 대입해였을때 이 정리가 사실임을 증명하시오"
   ]
  },
  {
   "cell_type": "code",
   "execution_count": 3,
   "metadata": {},
   "outputs": [
    {
     "name": "stdout",
     "output_type": "stream",
     "text": [
      "[]\n"
     ]
    }
   ],
   "source": [
    "result = []\n",
    "\n",
    "for a in range(1, 11, 1):\n",
    "    for b in range(1, 11, 1):\n",
    "        for c in range(1, 11, 1):\n",
    "            if a ** 3 + b ** 3 == c ** 3:\n",
    "                result.append([a,b,c])\n",
    "                \n",
    "print(result)\n"
   ]
  },
  {
   "cell_type": "markdown",
   "metadata": {},
   "source": [
    "### 문자열 함수\n",
    "\n",
    "- upper()\n",
    "\n",
    "- count()\n",
    "\n",
    "- find()\n",
    "\n",
    "- index()"
   ]
  },
  {
   "cell_type": "code",
   "execution_count": 13,
   "metadata": {},
   "outputs": [
    {
     "name": "stdout",
     "output_type": "stream",
     "text": [
      "2\n",
      "4\n",
      "8\n",
      "Hello world\n",
      "Hello world\n",
      "Hi world\n",
      "['Hello', 'world']\n"
     ]
    }
   ],
   "source": [
    "a = \"Hello world\"\n",
    "\n",
    "print(a.count(\"o\"))\n",
    "print(a.find(\"o\"))      # 해당값이 없다면 -1\"\n",
    "print(a.index(\"r\"))     # 해당값이 없다면 error\"\n",
    "print(a.lstrip(\"r\"))     #좌우공백삭제\"\n",
    "print(a.rstrip(\"r\"))     #좌우공백삭제\"\n",
    "print(a.replace(\"Hello\", \"Hi\"))\n",
    "print(a.split())\n"
   ]
  },
  {
   "cell_type": "code",
   "execution_count": 21,
   "metadata": {},
   "outputs": [
    {
     "name": "stdout",
     "output_type": "stream",
     "text": [
      "HELLO\n",
      "hello\n",
      "hELLO\n",
      "Hello\n"
     ]
    },
    {
     "data": {
      "text/plain": [
       "'      Helow world    '"
      ]
     },
     "execution_count": 21,
     "metadata": {},
     "output_type": "execute_result"
    }
   ],
   "source": [
    "a = \"Hello\"\n",
    "b = \"      Helow world    \"\n",
    "print(a.upper())\n",
    "print(a.lower())\n",
    "print(a.swapcase())\n",
    "print(a.title())\n",
    "\n",
    "b"
   ]
  },
  {
   "cell_type": "code",
   "execution_count": 25,
   "metadata": {},
   "outputs": [
    {
     "data": {
      "text/plain": [
       "'data'"
      ]
     },
     "execution_count": 25,
     "metadata": {},
     "output_type": "execute_result"
    }
   ],
   "source": [
    "c = \"%data%\"\n",
    "\n",
    "d = c.strip(\"%\")\n",
    "d"
   ]
  },
  {
   "cell_type": "code",
   "execution_count": 26,
   "metadata": {},
   "outputs": [
    {
     "data": {
      "text/plain": [
       "['a', 'b', 'c', 'd']"
      ]
     },
     "execution_count": 26,
     "metadata": {},
     "output_type": "execute_result"
    }
   ],
   "source": [
    "b = \"a&b&c&d\"\n",
    "\n",
    "b.split(\"&\")"
   ]
  },
  {
   "cell_type": "markdown",
   "metadata": {},
   "source": [
    "### 함수\n",
    "\n",
    "- 어떠한 입력갆을 가지고 작업을 실행하고 결과를 되돌려주는 행동한다"
   ]
  },
  {
   "cell_type": "code",
   "execution_count": 30,
   "metadata": {},
   "outputs": [
    {
     "name": "stdout",
     "output_type": "stream",
     "text": [
      "Hello\n",
      "Hello\n",
      "Hello\n"
     ]
    }
   ],
   "source": [
    "# 매개변수가 존재하지 않는 함수 생성\n",
    "\n",
    "def func_1():\n",
    "    result = \"Hello\"\n",
    "    return result\n",
    "\n",
    "print(func_1())\n",
    "print(func_1())\n",
    "print(func_1())"
   ]
  },
  {
   "cell_type": "code",
   "execution_count": 35,
   "metadata": {},
   "outputs": [
    {
     "name": "stdout",
     "output_type": "stream",
     "text": [
      "7\n",
      "11\n",
      "helloworld\n"
     ]
    },
    {
     "ename": "TypeError",
     "evalue": "func_2() takes 2 positional arguments but 3 were given",
     "output_type": "error",
     "traceback": [
      "\u001b[1;31m---------------------------------------------------------------------------\u001b[0m",
      "\u001b[1;31mTypeError\u001b[0m                                 Traceback (most recent call last)",
      "\u001b[1;32mc:\\Users\\avfrd\\OneDrive\\03.개인자료\\24.수업자료\\07.판다스\\231119_01.ipynb 셀 10\u001b[0m line \u001b[0;36m1\n\u001b[0;32m      <a href='vscode-notebook-cell:/c%3A/Users/avfrd/OneDrive/03.%EA%B0%9C%EC%9D%B8%EC%9E%90%EB%A3%8C/24.%EC%88%98%EC%97%85%EC%9E%90%EB%A3%8C/07.%ED%8C%90%EB%8B%A4%EC%8A%A4/231119_01.ipynb#X23sZmlsZQ%3D%3D?line=7'>8</a>\u001b[0m \u001b[39mprint\u001b[39m(func_2(\u001b[39m1\u001b[39m, \u001b[39m10\u001b[39m))\n\u001b[0;32m      <a href='vscode-notebook-cell:/c%3A/Users/avfrd/OneDrive/03.%EA%B0%9C%EC%9D%B8%EC%9E%90%EB%A3%8C/24.%EC%88%98%EC%97%85%EC%9E%90%EB%A3%8C/07.%ED%8C%90%EB%8B%A4%EC%8A%A4/231119_01.ipynb#X23sZmlsZQ%3D%3D?line=8'>9</a>\u001b[0m \u001b[39mprint\u001b[39m(func_2(\u001b[39m\"\u001b[39m\u001b[39mhello\u001b[39m\u001b[39m\"\u001b[39m, \u001b[39m\"\u001b[39m\u001b[39mworld\u001b[39m\u001b[39m\"\u001b[39m))\n\u001b[1;32m---> <a href='vscode-notebook-cell:/c%3A/Users/avfrd/OneDrive/03.%EA%B0%9C%EC%9D%B8%EC%9E%90%EB%A3%8C/24.%EC%88%98%EC%97%85%EC%9E%90%EB%A3%8C/07.%ED%8C%90%EB%8B%A4%EC%8A%A4/231119_01.ipynb#X23sZmlsZQ%3D%3D?line=9'>10</a>\u001b[0m \u001b[39mprint\u001b[39m(func_2(\u001b[39m1\u001b[39;49m, \u001b[39m2\u001b[39;49m, \u001b[39m3\u001b[39;49m))\n",
      "\u001b[1;31mTypeError\u001b[0m: func_2() takes 2 positional arguments but 3 were given"
     ]
    }
   ],
   "source": [
    "# 매개변수가 존재하는 함수 생성\n",
    "\n",
    "def func_2(a, b):\n",
    "    result = a + b\n",
    "    return result\n",
    "\n",
    "print(func_2(5, 2))\n",
    "print(func_2(1, 10))\n",
    "print(func_2(\"hello\", \"world\"))\n",
    "print(func_2(1, 2, 3))"
   ]
  },
  {
   "cell_type": "code",
   "execution_count": 42,
   "metadata": {},
   "outputs": [
    {
     "name": "stdout",
     "output_type": "stream",
     "text": [
      "10\n",
      "100\n",
      "500\n",
      "10\n",
      "100\n",
      "500\n"
     ]
    }
   ],
   "source": [
    "# 매개변수가 가변일 경우\n",
    "\n",
    "def func_3(*args):\n",
    "    result = max(args)\n",
    "    return result\n",
    "\n",
    "def func_4(a):\n",
    "    result = max(a)\n",
    "    return result\n",
    "\n",
    "print(func_3(1, 5, 10))\n",
    "print(func_3(1, 100, 10))\n",
    "print(func_3(1, 500, 10))\n",
    "\n",
    "print(func_4([1, 5, 10]))\n",
    "print(func_4([1, 100, 10]))\n",
    "print(func_4([1, 500, 10]))"
   ]
  },
  {
   "cell_type": "code",
   "execution_count": 48,
   "metadata": {},
   "outputs": [
    {
     "name": "stdout",
     "output_type": "stream",
     "text": [
      "28\n"
     ]
    }
   ],
   "source": [
    "def func_5(a, b = 3):     # 1개만 넣으면 b는 3이 기본값이 된다\n",
    "    result = a * b\n",
    "    return result\n",
    "\n",
    "print(func_5(4, 7))"
   ]
  },
  {
   "cell_type": "code",
   "execution_count": 78,
   "metadata": {},
   "outputs": [
    {
     "name": "stdout",
     "output_type": "stream",
     "text": [
      "55\n",
      "5050\n",
      "0\n"
     ]
    }
   ],
   "source": [
    "# 함수를 하나 생성 (매ㅐ개변수 (x, y) 2개)\n",
    "# x 부터 y 까지의 합을 되돌려주는 함수\n",
    "\n",
    "def func_7(x, y):\n",
    "    result = 0\n",
    "    for i in range(x, y+1, 1):\n",
    "        result += i\n",
    "    return result\n",
    "\n",
    "\n",
    "print(func_7(1,10))\n",
    "print(func_7(1,100))\n",
    "print(func_7(10,1))\n"
   ]
  },
  {
   "cell_type": "code",
   "execution_count": 81,
   "metadata": {},
   "outputs": [
    {
     "name": "stdout",
     "output_type": "stream",
     "text": [
      "55\n",
      "55\n"
     ]
    }
   ],
   "source": [
    "def func_8(x, y):\n",
    "    result = 0\n",
    "    if (x > y):\n",
    "        for i in range(y, x+1, 1):\n",
    "            result += i\n",
    "    else:\n",
    "        for i in range(x, y+1,1):\n",
    "            result += i\n",
    "    return result\n",
    "\n",
    "print(func_8(1, 10))\n",
    "print(func_8(10, 1))\n",
    "            \n",
    "            "
   ]
  },
  {
   "cell_type": "code",
   "execution_count": 83,
   "metadata": {},
   "outputs": [
    {
     "name": "stdout",
     "output_type": "stream",
     "text": [
      "55\n",
      "55\n"
     ]
    }
   ],
   "source": [
    "def func_10(x, y):\n",
    "    result = 0\n",
    "    i = min (x, y)\n",
    "    while i <= max(x, y):\n",
    "        result += i\n",
    "        i += 1\n",
    "    return result\n",
    "\n",
    "print(func_10(1, 10))\n",
    "print(func_10(10, 1))\n",
    "\n"
   ]
  },
  {
   "cell_type": "code",
   "execution_count": 86,
   "metadata": {},
   "outputs": [
    {
     "name": "stdout",
     "output_type": "stream",
     "text": [
      "14.0\n"
     ]
    }
   ],
   "source": [
    "### 예제문제\n",
    "### 평균을 구하는 함수 하나 생성\n",
    "\n",
    "### 함수 생성(매개변수는 가변인 경우)\n",
    "\n",
    "    # 매개 변수의 길이를 변수에 대입\n",
    "    \n",
    "    # 매개 변수의 값들은 모두 합\n",
    "    \n",
    "    # 모든 합 데이터와 길이를 나눠준다\n",
    "    \n",
    "    # 위의 결과를 되돌려 준다\n",
    "    \n",
    "\n",
    "def average(*args):\n",
    "    length = len(args)\n",
    "    sum_num = sum(args)\n",
    "    return sum_num / length\n",
    "    \n",
    "print(average(2, 10, 30))"
   ]
  },
  {
   "cell_type": "code",
   "execution_count": 89,
   "metadata": {},
   "outputs": [
    {
     "name": "stdout",
     "output_type": "stream",
     "text": [
      "10\n",
      "4\n",
      "7\n",
      "40\n",
      "-----------------------\n",
      "10\n",
      "4\n",
      "7\n",
      "40\n"
     ]
    }
   ],
   "source": [
    "a = [10, 4, 7, 40]\n",
    "\n",
    "for i in range(0, len(a), 1):\n",
    "    print(a[i])\n",
    "    \n",
    "print(\"-----------------------\")\n",
    "\n",
    "for i in a:\n",
    "    print(i)"
   ]
  },
  {
   "cell_type": "code",
   "execution_count": 90,
   "metadata": {},
   "outputs": [
    {
     "data": {
      "text/plain": [
       "[1, 4, 9, 16]"
      ]
     },
     "execution_count": 90,
     "metadata": {},
     "output_type": "execute_result"
    }
   ],
   "source": [
    "# map() 배열데이터에서 각 원소들을 함수에 입력 값으로 호출하여 새로운 배열로 생성\n",
    "\n",
    "def func_12(x):\n",
    "    return x **2\n",
    "\n",
    "list(map(func_12,[1,2,3,4]))"
   ]
  },
  {
   "cell_type": "code",
   "execution_count": 92,
   "metadata": {},
   "outputs": [
    {
     "data": {
      "text/plain": [
       "[1, 4, 9, 16]"
      ]
     },
     "execution_count": 92,
     "metadata": {},
     "output_type": "execute_result"
    }
   ],
   "source": [
    "list(map(lambda x : x ** 2, [1,2,3,4]))"
   ]
  },
  {
   "cell_type": "markdown",
   "metadata": {},
   "source": [
    "# 변수의 종류\n",
    "\n",
    "1. 전역 변수 \n",
    "\n",
    "    - 어디서든 사용이 가능한 변수\n",
    "    - 함수 내부나 외부에서 사용이 가능하다\n",
    "\n",
    "2. 지역 변수\n",
    "\n",
    "    - 특정한 영역에서만 사용이 가능한 변수\n",
    "    - 함수, 클래스 내부에서만 사용이 가능한 변수\n",
    "    - 해당하는 영역을 벗어나면 사용이 불가능\n",
    "\n",
    "3. 매개 변수\n",
    "\n",
    "    - 함수를 생성할 때 사용하는 변수 이름\n",
    "    - 해당하는 함수에서만 사용이 가능하다\n",
    "    - 매개변수는 지역 변수 중 하나"
   ]
  },
  {
   "cell_type": "code",
   "execution_count": 98,
   "metadata": {},
   "outputs": [
    {
     "name": "stdout",
     "output_type": "stream",
     "text": [
      "5\n",
      "7\n"
     ]
    }
   ],
   "source": [
    "\n",
    "def func_13(input_a, input_b):\n",
    "    print(input_a)\n",
    "    func_result = input_a + input_b\n",
    "    return func_result\n",
    "\n",
    "print(func_13(5, 2))\n",
    "\n",
    "\n"
   ]
  },
  {
   "cell_type": "markdown",
   "metadata": {},
   "source": [
    "# 생성자 선언\n",
    "\n",
    "    1. 클래스를 선언한 후 __init__ 이라는 함수를 이용하여 생성자를 선언한다\n",
    "\n",
    "    2. __init__ 함수의 첫번째 매개변수는 self로 선언하여야 한다."
   ]
  },
  {
   "cell_type": "markdown",
   "metadata": {},
   "source": [
    "# class\n",
    "\n",
    "    1. 변수 + 함수 모음\n",
    "\n",
    "    2. 하나의 저장 공간 안에 변수들과 함수들을 선언"
   ]
  },
  {
   "cell_type": "code",
   "execution_count": 1,
   "metadata": {},
   "outputs": [],
   "source": [
    "# 클래스 선언\n",
    "\n",
    "class Class_1:\n",
    "    # 생성자 함수 : 클래스가 생성이 될 때 최초로 한번만 실행이 되는 함수\n",
    "    # 생성자 함수는 클래스 안에서 사용할 변수에 값을 지정\n",
    "    \n",
    "    def __init__(self, input_a, input_b):\n",
    "        self.a = input_a\n",
    "        self.b = input_b"
   ]
  },
  {
   "cell_type": "code",
   "execution_count": 17,
   "metadata": {},
   "outputs": [],
   "source": [
    "class Class_2:\n",
    "    def __init__ (self, input_a, input_b):\n",
    "        self.a = input_a\n",
    "        self.b = input_b\n",
    "    \n",
    "    def add(self):\n",
    "        result = self.a + self.b\n",
    "        return result\n",
    "\n",
    "    def subtract(self):\n",
    "        result = self.a * self.b\n",
    "        return result"
   ]
  },
  {
   "cell_type": "code",
   "execution_count": 18,
   "metadata": {},
   "outputs": [
    {
     "name": "stdout",
     "output_type": "stream",
     "text": [
      "13\n",
      "24\n"
     ]
    }
   ],
   "source": [
    "test_class3 = Class_2(10, 3)\n",
    "test_class4 = Class_2(8, 3)\n",
    "\n",
    "print(test_class3.add())\n",
    "print(test_class4.subtract())"
   ]
  },
  {
   "cell_type": "markdown",
   "metadata": {},
   "source": [
    "# class 선언\n",
    "\n",
    "1. class의 이름은 User\n",
    "2. 생성자 함수에서 유저의 이름, 생년월일, 휴대폰번호 입력 값으로 받아서 변수에 저장\n",
    "3. inpf() 함수를 이용하여 유저의 정보를 출력"
   ]
  },
  {
   "cell_type": "code",
   "execution_count": 20,
   "metadata": {},
   "outputs": [],
   "source": [
    "class User:\n",
    "    def __init__(self, _name, _birth, _phone):\n",
    "        self.name = _name\n",
    "        self.birth = _birth\n",
    "        self.phone = _phone\n",
    "        \n",
    "    def info(self):\n",
    "        return f'name :{self.name} birth : {self.birth} phone : {self.phone}'"
   ]
  },
  {
   "cell_type": "code",
   "execution_count": 21,
   "metadata": {},
   "outputs": [],
   "source": [
    "user1 = User('test', '900101', '01031813541')\n",
    "user2 = User('test2', '800101', '01031813542')"
   ]
  },
  {
   "cell_type": "code",
   "execution_count": 22,
   "metadata": {},
   "outputs": [
    {
     "name": "stdout",
     "output_type": "stream",
     "text": [
      "name :test birth : 900101 phone : 01031813541\n",
      "name :test2 birth : 800101 phone : 01031813542\n"
     ]
    }
   ],
   "source": [
    "print(user1.info())\n",
    "print(user2.info())"
   ]
  },
  {
   "cell_type": "markdown",
   "metadata": {},
   "source": [
    "# 지갑 클래스 선언\n",
    "\n",
    "1. 클래스 이름은 Wallet(User 클래스를 상속)\n",
    "2. 생성자 함수 유저의 정보(이름, 생년월일, 휴대폰번호), 지갑의 잔액\n",
    "3. 잔액이라는 변수는 기본값을 0 지정\n",
    "4. work() 함수를 생성 : 매개번수에는 일의 종류 받고 일의 종류에 따라 지갑의 잔액 +\n",
    "5. flex() 함수를 생성 : 매개번수 구매 물품명을 받고 물품명에 따라 지갑의 잔액 -\n",
    "6. 오버라이드 : 상속받은 함수 중 해당하는 클래스에서 함수를 변경하여 사용\n",
    "\n"
   ]
  },
  {
   "cell_type": "code",
   "execution_count": null,
   "metadata": {},
   "outputs": [],
   "source": [
    "class Wallet():\n",
    "    def __init__(self, _name, _birth, _phone, _balance = 0)\n",
    "    "
   ]
  }
 ],
 "metadata": {
  "kernelspec": {
   "display_name": "Python 3",
   "language": "python",
   "name": "python3"
  },
  "language_info": {
   "codemirror_mode": {
    "name": "ipython",
    "version": 3
   },
   "file_extension": ".py",
   "mimetype": "text/x-python",
   "name": "python",
   "nbconvert_exporter": "python",
   "pygments_lexer": "ipython3",
   "version": "3.11.6"
  }
 },
 "nbformat": 4,
 "nbformat_minor": 2
}
